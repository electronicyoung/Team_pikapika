{
 "cells": [
  {
   "cell_type": "code",
   "execution_count": 82,
   "metadata": {},
   "outputs": [
    {
     "name": "stdout",
     "output_type": "stream",
     "text": [
      "(6480, 1)\n",
      "(6480,)\n"
     ]
    },
    {
     "name": "stderr",
     "output_type": "stream",
     "text": [
      "/Users/wonyoungchoi/anaconda3/envs/Tensorflower/lib/python3.6/site-packages/sklearn/linear_model/logistic.py:433: FutureWarning: Default solver will be changed to 'lbfgs' in 0.22. Specify a solver to silence this warning.\n",
      "  FutureWarning)\n",
      "/Users/wonyoungchoi/anaconda3/envs/Tensorflower/lib/python3.6/site-packages/sklearn/linear_model/logistic.py:460: FutureWarning: Default multi_class will be changed to 'auto' in 0.22. Specify the multi_class option to silence this warning.\n",
      "  \"this warning.\", FutureWarning)\n"
     ]
    },
    {
     "name": "stdout",
     "output_type": "stream",
     "text": [
      "[6.24317786+0.j 1.38690519+0.j 0.46841781+0.j ... 3.25174763+0.j\n",
      " 3.25174763+0.j 3.25174763+0.j]\n"
     ]
    },
    {
     "data": {
      "text/plain": [
       "(2256,)"
      ]
     },
     "execution_count": 82,
     "metadata": {},
     "output_type": "execute_result"
    }
   ],
   "source": [
    "import csv\n",
    "import pandas as pd\n",
    "import numpy as np\n",
    "from sklearn import preprocessing\n",
    "from sklearn import utils\n",
    "\n",
    "\n",
    "\n",
    "train = pd.read_csv('train_data.csv')\n",
    "train\n",
    "\n",
    "feature_cols = ['number_of_hour']\n",
    "X = train.loc[:, feature_cols]\n",
    "\n",
    "print(X.shape)\n",
    "\n",
    "y = train.bandwidth_available_OTT\n",
    "y = y.astype(complex)\n",
    "y\n",
    "print(y.shape)\n",
    "\n",
    "\n",
    "#lab_enc = preprocessing.LabelEncoder()\n",
    "#encoded = lab_enc.fit_transform(y)\n",
    "#print(utils.complex.type_of_target(y))\n",
    "\n",
    "\n",
    "from sklearn.linear_model import LogisticRegression\n",
    "logreg = LogisticRegression()\n",
    "logreg.fit(X, y)\n",
    "\n",
    "#print(y)\n",
    "\n",
    "test = pd.read_csv('test_data.csv')\n",
    "\n",
    "\n",
    "X_new = test.loc[:, feature_cols]\n",
    "X_new.shape\n",
    "\n",
    "new_pred_class = logreg.predict(X_new)\n",
    "\n",
    "print(new_pred_class)\n"
   ]
  },
  {
   "cell_type": "code",
   "execution_count": 83,
   "metadata": {},
   "outputs": [
    {
     "data": {
      "text/plain": [
       "(2256,)"
      ]
     },
     "execution_count": 83,
     "metadata": {},
     "output_type": "execute_result"
    }
   ],
   "source": [
    "new_pred_class.shape\n",
    "\n"
   ]
  },
  {
   "cell_type": "code",
   "execution_count": null,
   "metadata": {},
   "outputs": [],
   "source": []
  }
 ],
 "metadata": {
  "kernelspec": {
   "display_name": "Python 3",
   "language": "python",
   "name": "python3"
  },
  "language_info": {
   "codemirror_mode": {
    "name": "ipython",
    "version": 3
   },
   "file_extension": ".py",
   "mimetype": "text/x-python",
   "name": "python",
   "nbconvert_exporter": "python",
   "pygments_lexer": "ipython3",
   "version": "3.6.8"
  }
 },
 "nbformat": 4,
 "nbformat_minor": 2
}
